{
 "cells": [
  {
   "cell_type": "code",
   "execution_count": 5,
   "id": "8fe567cf",
   "metadata": {},
   "outputs": [
    {
     "name": "stdout",
     "output_type": "stream",
     "text": [
      "(22500, 23)\n",
      "(7500, 23)\n",
      "(22500,)\n",
      "(7500,)\n"
     ]
    }
   ],
   "source": [
    "# 1. Import pandas\n",
    "import pandas as pd\n",
    "import numpy as np\n",
    "from sklearn import linear_model\n",
    "from sklearn.metrics import precision_recall_fscore_support\n",
    "\n",
    "\n",
    "# 2. Load the saved CSVs\n",
    "X_train = pd.read_csv('X_train.csv')\n",
    "X_test = pd.read_csv('X_test.csv')\n",
    "y_train = pd.read_csv('y_train.csv')\n",
    "y_test = pd.read_csv('y_test.csv')\n",
    "\n",
    "# 3. (Optional but important) - if y_train and y_test are DataFrames, squeeze to make them Series\n",
    "y_train = y_train.squeeze()\n",
    "y_test = y_test.squeeze()\n",
    "\n",
    "# 4. Verify shapes\n",
    "print(X_train.shape)\n",
    "print(X_test.shape)\n",
    "print(y_train.shape)\n",
    "print(y_test.shape)\n"
   ]
  },
  {
   "cell_type": "code",
   "execution_count": 7,
   "id": "3504eb97",
   "metadata": {},
   "outputs": [
    {
     "name": "stdout",
     "output_type": "stream",
     "text": [
      "Q18 - w_logreg:  [[-0.10278017 -0.05212978 -0.07538191 -0.0836807   0.07350815  0.65359134\n",
      "   0.10919094  0.090552    0.03963627  0.02866674  0.01787741 -0.406916\n",
      "   0.16856665  0.14502597 -0.06159572  0.00657866  0.02513549 -0.17581801\n",
      "  -0.23733501 -0.03878504 -0.04188511 -0.0310234  -0.05065429]]\n",
      "Q18 - intercept_logreg:  [-1.45570814]\n",
      "Q19 - Accuracy on training data = 0.808800\n",
      "Q20 - prec:  0.6714031971580817\n",
      "Q20 - recal:  0.23232944068838352\n",
      "Q20 - fscore:  0.3452054794520548\n"
     ]
    }
   ],
   "source": [
    "logreg = linear_model.LogisticRegression(penalty = None)\n",
    "logreg.fit(X_train, y_train)\n",
    "w_logreg = logreg.coef_\n",
    "intercept_logreg = logreg.intercept_\n",
    "print('Q18 - w_logreg: ', w_logreg)\n",
    "print('Q18 - intercept_logreg: ', intercept_logreg)\n",
    "y_hat_logreg = logreg.predict(X_test)\n",
    "\n",
    "# Find the accuracy achieved on test set using logreg.score and y_test \n",
    "acc_logreg = logreg.score(X_test, y_test)\n",
    "\n",
    "print(\"Q19 - Accuracy on training data = %f\" % acc_logreg)\n",
    "\n",
    "# TODO Q20\n",
    "# Find Precision, recall and fscore using precision_recall_fscore_support method of sklearn\n",
    "# Using y_test and y_hat_logreg\n",
    "prec, recal, fscore, sup = precision_recall_fscore_support(y_test, y_hat_logreg, average='binary')\n",
    "\n",
    "print('Q20 - prec: ', prec)\n",
    "print('Q20 - recal: ', recal)\n",
    "print('Q20 - fscore: ', fscore)"
   ]
  },
  {
   "cell_type": "code",
   "execution_count": null,
   "id": "e47a21e7",
   "metadata": {},
   "outputs": [],
   "source": []
  }
 ],
 "metadata": {
  "kernelspec": {
   "display_name": ".venv",
   "language": "python",
   "name": "python3"
  },
  "language_info": {
   "codemirror_mode": {
    "name": "ipython",
    "version": 3
   },
   "file_extension": ".py",
   "mimetype": "text/x-python",
   "name": "python",
   "nbconvert_exporter": "python",
   "pygments_lexer": "ipython3",
   "version": "3.12.6"
  }
 },
 "nbformat": 4,
 "nbformat_minor": 5
}
