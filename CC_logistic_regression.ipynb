{
 "cells": [
  {
   "cell_type": "code",
   "execution_count": 1,
   "id": "8fe567cf",
   "metadata": {},
   "outputs": [
    {
     "name": "stdout",
     "output_type": "stream",
     "text": [
      "(22449, 31)\n",
      "(7483, 31)\n",
      "(22449,)\n",
      "(7483,)\n"
     ]
    }
   ],
   "source": [
    "# 1. Import pandas\n",
    "import pandas as pd\n",
    "import numpy as np\n",
    "from sklearn import linear_model\n",
    "from sklearn.metrics import precision_recall_fscore_support, accuracy_score\n",
    "from sklearn.decomposition import PCA\n",
    "from sklearn.preprocessing import PolynomialFeatures\n",
    "from sklearn.linear_model import LogisticRegression\n",
    "\n",
    "\n",
    "\n",
    "# 2. Load the saved CSVs\n",
    "X_train = pd.read_csv('X_train.csv')\n",
    "X_test = pd.read_csv('X_test.csv')\n",
    "y_train = pd.read_csv('y_train.csv')\n",
    "y_test = pd.read_csv('y_test.csv')\n",
    "\n",
    "# 3. (Optional but important) - if y_train and y_test are DataFrames, squeeze to make them Series\n",
    "y_train = y_train.squeeze()\n",
    "y_test = y_test.squeeze()\n",
    "\n",
    "# 4. Verify shapes\n",
    "print(X_train.shape)\n",
    "print(X_test.shape)\n",
    "print(y_train.shape)\n",
    "print(y_test.shape)\n"
   ]
  },
  {
   "cell_type": "code",
   "execution_count": 2,
   "id": "3504eb97",
   "metadata": {},
   "outputs": [
    {
     "name": "stdout",
     "output_type": "stream",
     "text": [
      "Q18 - w_logreg:  [[-0.09144571  0.04813232  0.66387844  0.11132103  0.05620192  0.02105238\n",
      "   0.04287396  0.01705268 -0.48163099  0.11769651  0.24062338  0.01904728\n",
      "   0.01770346 -0.00862994 -0.19544778 -0.30863672 -0.01256714 -0.04386799\n",
      "  -0.04296814 -0.0319785   0.02994752 -0.02994752  0.04092838  0.01268984\n",
      "  -0.01752303 -0.08952477 -0.13677393 -0.0048192   0.05513189 -0.051769\n",
      "  -0.01562738]]\n",
      "Q18 - intercept_logreg:  [-1.47203668]\n",
      "Q19 - Accuracy on training data = 0.808232\n",
      "Q20 - prec:  0.6793103448275862\n",
      "Q20 - recal:  0.2398052343274498\n",
      "Q20 - fscore:  0.35447593342330186\n"
     ]
    }
   ],
   "source": [
    "logreg = linear_model.LogisticRegression(penalty = None)\n",
    "logreg.fit(X_train, y_train)\n",
    "w_logreg = logreg.coef_\n",
    "intercept_logreg = logreg.intercept_\n",
    "print('Q18 - w_logreg: ', w_logreg)\n",
    "print('Q18 - intercept_logreg: ', intercept_logreg)\n",
    "y_hat_logreg = logreg.predict(X_test)\n",
    "\n",
    "# Find the accuracy achieved on test set using logreg.score and y_test \n",
    "acc_logreg = logreg.score(X_test, y_test)\n",
    "\n",
    "print(\"Q19 - Accuracy on training data = %f\" % acc_logreg)\n",
    "\n",
    "# TODO Q20\n",
    "# Find Precision, recall and fscore using precision_recall_fscore_support method of sklearn\n",
    "# Using y_test and y_hat_logreg\n",
    "prec, recal, fscore, sup = precision_recall_fscore_support(y_test, y_hat_logreg, average='binary')\n",
    "\n",
    "print('Q20 - prec: ', prec)\n",
    "print('Q20 - recal: ', recal)\n",
    "print('Q20 - fscore: ', fscore)"
   ]
  },
  {
   "cell_type": "code",
   "execution_count": 3,
   "id": "e47a21e7",
   "metadata": {},
   "outputs": [],
   "source": [
    "def run_logistic_regression(X_train, X_test, y_train, y_test, \n",
    "                             regularization_value=1.0, \n",
    "                             feature_transform=None,\n",
    "                             degree=2):\n",
    "    \"\"\"\n",
    "    Runs logistic regression with optional feature transformation.\n",
    "    \n",
    "    Parameters:\n",
    "    - X_train, X_test, y_train, y_test: Training and testing data\n",
    "    - regularization_value: Inverse of regularization strength (C parameter)\n",
    "    - feature_transform: None, 'pca', or 'polynomial'\n",
    "    - degree: Degree for polynomial features if feature_transform='polynomial'\n",
    "    \n",
    "    Returns:\n",
    "    - acc_logreg: Accuracy on test set\n",
    "    - prec: Precision\n",
    "    - recall: Recall\n",
    "    - fscore: F1 score\n",
    "    \"\"\"\n",
    "\n",
    "    # Feature Transformation\n",
    "    if feature_transform == 'pca':\n",
    "        pca = PCA(n_components=min(X_train.shape[1], 10))  # Limit components\n",
    "        X_train = pca.fit_transform(X_train)\n",
    "        X_test = pca.transform(X_test)\n",
    "        \n",
    "    elif feature_transform == 'polynomial':\n",
    "        poly = PolynomialFeatures(degree=degree, include_bias=False)\n",
    "        X_train = poly.fit_transform(X_train)\n",
    "        X_test = poly.transform(X_test)\n",
    "\n",
    "    # Logistic Regression Model\n",
    "    logreg = LogisticRegression(C=regularization_value, penalty='l2', max_iter=1000)\n",
    "    logreg.fit(X_train, y_train)\n",
    "    \n",
    "    # Predict\n",
    "    y_hat_logreg = logreg.predict(X_test)\n",
    "    \n",
    "    # Evaluate\n",
    "    acc_logreg = accuracy_score(y_test, y_hat_logreg)\n",
    "    prec, recall, fscore, _ = precision_recall_fscore_support(\n",
    "        y_test, y_hat_logreg, average='binary')\n",
    "    \n",
    "    return acc_logreg, prec, recall, fscore\n"
   ]
  },
  {
   "cell_type": "code",
   "execution_count": 4,
   "id": "0b38e177",
   "metadata": {},
   "outputs": [
    {
     "data": {
      "text/plain": [
       "(0.8082319925163705,\n",
       " 0.6793103448275862,\n",
       " 0.2398052343274498,\n",
       " 0.35447593342330186)"
      ]
     },
     "execution_count": 4,
     "metadata": {},
     "output_type": "execute_result"
    }
   ],
   "source": [
    " run_logistic_regression(X_train, X_test, y_train, y_test, \n",
    "                             regularization_value=1.0, \n",
    "                             feature_transform=None,\n",
    "                             degree=2)"
   ]
  }
 ],
 "metadata": {
  "kernelspec": {
   "display_name": "Python 3",
   "language": "python",
   "name": "python3"
  },
  "language_info": {
   "codemirror_mode": {
    "name": "ipython",
    "version": 3
   },
   "file_extension": ".py",
   "mimetype": "text/x-python",
   "name": "python",
   "nbconvert_exporter": "python",
   "pygments_lexer": "ipython3",
   "version": "3.12.2"
  }
 },
 "nbformat": 4,
 "nbformat_minor": 5
}
